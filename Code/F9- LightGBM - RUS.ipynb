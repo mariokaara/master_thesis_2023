{
 "cells": [
  {
   "cell_type": "code",
   "execution_count": 201,
   "metadata": {},
   "outputs": [],
   "source": [
    "\n",
    "\n",
    "import pandas as pd\n",
    "import numpy as np\n",
    "from sklearn.svm import SVR\n",
    "from sklearn.cluster import KMeans\n",
    "import os.path\n",
    "import datetime\n",
    "import winsound\n",
    "from imblearn.over_sampling import SMOTE\n",
    "from sklearn.inspection import permutation_importance\n",
    "import scipy.stats as stats\n",
    "from scipy.stats import loguniform\n",
    "from sklearn.inspection import permutation_importance\n",
    "import sys\n",
    "from sklearn.model_selection import StratifiedShuffleSplit\n",
    "import os\n",
    "from scipy.stats import chi2_contingency\n",
    "from sklearn.metrics import roc_auc_score, roc_curve\n",
    "from sklearn.metrics import precision_recall_fscore_support\n",
    "from imblearn.over_sampling import SVMSMOTE\n",
    "from sklearn.metrics import precision_score, recall_score, f1_score\n",
    "from sklearn.feature_selection import RFE\n",
    "import os.path\n",
    "from openpyxl import Workbook, load_workbook\n",
    "import xgboost as xgb\n",
    "from scipy.stats import randint\n",
    "from sklearn.metrics import precision_score, recall_score, f1_score\n",
    "from sklearn.model_selection import GridSearchCV\n",
    "from sklearn.metrics import confusion_matrix\n",
    "from sklearn.metrics import make_scorer\n",
    "from sklearn.svm import LinearSVC\n",
    "from scipy.stats import kendalltau\n",
    "from scipy.stats import pearsonr\n",
    "from sklearn.svm import SVC\n",
    "from pandas_profiling import ProfileReport\n",
    "from imblearn.under_sampling import RandomUnderSampler\n",
    "from imblearn.over_sampling import RandomOverSampler\n",
    "import seaborn as sns\n",
    "from sklearn.preprocessing import LabelEncoder\n",
    "from sklearn.ensemble import RandomForestClassifier, HistGradientBoostingClassifier\n",
    "from sklearn.tree import DecisionTreeClassifier\n",
    "from sklearn.svm import SVC\n",
    "from sklearn.model_selection import RandomizedSearchCV\n",
    "from sklearn.preprocessing import StandardScaler, MinMaxScaler, LabelEncoder\n",
    "from lightgbm import LGBMClassifier\n",
    "from sklearn.metrics import accuracy_score, confusion_matrix, classification_report\n",
    "from scipy.stats import pointbiserialr\n",
    "from tabulate import tabulate\n",
    "from sklearn.metrics import roc_auc_score\n",
    "from sklearn.metrics import roc_curve\n",
    "from sklearn.inspection import permutation_importance\n",
    "from sklearn.model_selection import cross_val_score, StratifiedKFold\n",
    "from sklearn.preprocessing import MinMaxScaler\n",
    "from sklearn.model_selection import train_test_split\n",
    "from sklearn.linear_model import LogisticRegression\n",
    "from sklearn.metrics import mean_absolute_error, mean_absolute_percentage_error\n",
    "from sklearn.metrics import mean_squared_error, r2_score\n",
    "import matplotlib.pyplot as plt\n",
    "\n",
    "plt.rcParams['figure.facecolor'] = 'white'\n",
    "np.set_printoptions(threshold=sys.maxsize, suppress=True)"
   ]
  },
  {
   "cell_type": "code",
   "execution_count": 202,
   "metadata": {},
   "outputs": [],
   "source": [
    "# After cleaning my initial dataset I saved the data into CSV format again so the cleaned and aligned dataset can act like original source for the other researchers who want to use this dataset.\n",
    "# Problem, is that saving it to CSV to not preserve datatypes, so I have to make them categorical again.\n",
    "datatypes = {'business_area': str, 'sex': str, 'employment_status': str,\n",
    "            'time': str, 'severity': str, 'enterprise_size': str,\n",
    "            'citizenship': str, 'profession_code': str, 'type_of_injury': str\n",
    "            , 'injured_bodypart': str, 'workstation': str,\n",
    "            'working_environment': str, 'working_process': str\n",
    "            , 'specific_physical_activity': str,\n",
    "            'material_agent_of_physical_act.': str,\n",
    "            'deviation': str, 'material_agent_of_deviation': str\n",
    "            , 'contact_mode_of_injury': str, 'material_agent_of_contact_mode': str, 'general_profession_code': str, 'month': str, 'weekofyear': str, 'dayofweek': str, 'material_agent_of_physical_act': str}"
   ]
  },
  {
   "cell_type": "code",
   "execution_count": 203,
   "metadata": {},
   "outputs": [],
   "source": [
    "os.chdir('/Users/Mario/OneDrive/Desktop/Final code for thesis')\n",
    "df = pd.read_csv('data.csv', dtype = datatypes, encoding='latin-1', index_col=0)\n",
    "df = df.drop(columns= ['date', 'time', 'datetime', 'time_ESAW', 'lost_days', 'type_of_injury', 'injured_bodypart', 'severity'])"
   ]
  },
  {
   "cell_type": "code",
   "execution_count": 204,
   "metadata": {},
   "outputs": [],
   "source": [
    "sector = 'F'\n",
    "occup_class = 9\n",
    "df = df[(df['business_sector'] == sector)].copy()\n",
    "df = df[(df['general_profession_class'] == occup_class)].copy()\n",
    "df = df.drop(columns=['business_sector', 'general_profession_class'])\n",
    "df.dropna(inplace=True)\n",
    "df.reset_index(drop=True, inplace=True)"
   ]
  },
  {
   "cell_type": "code",
   "execution_count": 205,
   "metadata": {},
   "outputs": [
    {
     "data": {
      "image/png": "[encoded data removed]",
      "text/plain": [
       "<Figure size 1080x576 with 1 Axes>"
      ]
     },
     "metadata": {},
     "output_type": "display_data"
    }
   ],
   "source": [
    "# Filter the data to include only employment years from 0 to 10\n",
    "df = df[df['employment_years'] <= 10]\n",
    "\n",
    "# Separate the data into two DataFrames based on the target class\n",
    "class_0 = df[df['target'] == 0]\n",
    "class_1 = df[df['target'] == 1]\n",
    "\n",
    "# Plot the employment years series for both target classes\n",
    "plt.figure(figsize=(15, 8))\n",
    "plt.hist(class_0['employment_years'], bins=10, alpha=0.5, label='Target Class 0', color='blue')\n",
    "plt.hist(class_1['employment_years'], bins=10, alpha=0.5, label='Target Class 1', color='red')\n",
    "\n",
    "# Customize the plot\n",
    "plt.xlabel('Employment years')\n",
    "plt.ylabel('Frequency')\n",
    "# plt.title('Employment Years Distribution for Target Classes 0 and 1')\n",
    "plt.legend(loc='upper right')\n",
    "\n",
    "# Display the plot\n",
    "plt.show()"
   ]
  },
  {
   "cell_type": "code",
   "execution_count": 206,
   "metadata": {},
   "outputs": [],
   "source": [
    "# F9 hand-picked features\n",
    "df = df[['business_area', 'age', 'employment_status', 'employment_years', 'location', 'workstation', 'working_process', 'specific_physical_activity', 'material_agent_of_physical_act', 'deviation', 'material_agent_of_deviation', 'contact_mode_of_injury', 'material_agent_of_contact_mode', 'enterprise_size_ordinal_enc', 'month', 'sin_time', 'cos_time', 'snowfall', 'cause code 001', 'cause code 003', 'cause code 004', 'cause code 008', 'cause code 009', 'cause code 011', 'cause code 015', 'cause code 017', 'target']] "
   ]
  },
  {
   "cell_type": "code",
   "execution_count": 207,
   "metadata": {},
   "outputs": [],
   "source": [
    "all_object_cols = list(df.select_dtypes(include=['object']).columns)\n",
    "df = pd.get_dummies(df, columns=all_object_cols)\n",
    "\n",
    "# Separate independent variables and dependent variable for train set\n",
    "X = df.drop(columns=['target'])\n",
    "y = df['target']\n",
    "\n",
    "# Balance the target class using random over-sampling\n",
    "X_train, X_test, y_train, y_test = train_test_split(X, y, test_size=0.2, random_state=42)\n",
    "\n",
    "# Scale float64 variables\n",
    "float_cols = X_train.select_dtypes(include='float64').columns.tolist()\n",
    "scaler = MinMaxScaler(feature_range=(0,1))\n",
    "X_train[float_cols] = scaler.fit_transform(X_train[float_cols])\n",
    "X_test[float_cols] = scaler.transform(X_test[float_cols])"
   ]
  },
  {
   "cell_type": "code",
   "execution_count": 208,
   "metadata": {},
   "outputs": [
    {
     "ename": "NameError",
     "evalue": "name 'lt' is not defined",
     "output_type": "error",
     "traceback": [
      "\u001b[1;31m---------------------------------------------------------------------------\u001b[0m",
      "\u001b[1;31mNameError\u001b[0m                                 Traceback (most recent call last)",
      "\u001b[1;32m<ipython-input-208-273e650a7cbf>\u001b[0m in \u001b[0;36m<module>\u001b[1;34m\u001b[0m\n\u001b[0;32m     51\u001b[0m \u001b[0mplt\u001b[0m\u001b[1;33m.\u001b[0m\u001b[0mxlabel\u001b[0m\u001b[1;33m(\u001b[0m\u001b[1;34m'Feature importance'\u001b[0m\u001b[1;33m)\u001b[0m\u001b[1;33m\u001b[0m\u001b[1;33m\u001b[0m\u001b[0m\n\u001b[0;32m     52\u001b[0m \u001b[0mplt\u001b[0m\u001b[1;33m.\u001b[0m\u001b[0mylabel\u001b[0m\u001b[1;33m(\u001b[0m\u001b[1;34m'Features'\u001b[0m\u001b[1;33m)\u001b[0m\u001b[1;33m\u001b[0m\u001b[1;33m\u001b[0m\u001b[0m\n\u001b[1;32m---> 53\u001b[1;33m \u001b[0mlt\u001b[0m\u001b[1;33m.\u001b[0m\u001b[0mtitle\u001b[0m\u001b[1;33m(\u001b[0m\u001b[1;34m'Top 5 Feature Importances Affecting Target Class 1'\u001b[0m\u001b[1;33m)\u001b[0m\u001b[1;33m\u001b[0m\u001b[1;33m\u001b[0m\u001b[0m\n\u001b[0m\u001b[0;32m     54\u001b[0m \u001b[0mplt\u001b[0m\u001b[1;33m.\u001b[0m\u001b[0mshow\u001b[0m\u001b[1;33m(\u001b[0m\u001b[1;33m)\u001b[0m\u001b[1;33m\u001b[0m\u001b[1;33m\u001b[0m\u001b[0m\n\u001b[0;32m     55\u001b[0m \u001b[1;33m\u001b[0m\u001b[0m\n",
      "\u001b[1;31mNameError\u001b[0m: name 'lt' is not defined"
     ]
    },
    {
     "data": {
      "image/png": "[encoded data removed]",
      "text/plain": [
       "<Figure size 1080x576 with 1 Axes>"
      ]
     },
     "metadata": {},
     "output_type": "display_data"
    }
   ],
   "source": [
    "rs = 42\n",
    "under_sampler = RandomUnderSampler(random_state=rs)\n",
    "X_train, y_train = under_sampler.fit_resample(X_train, y_train)\n",
    "\n",
    "\n",
    "rf_model = RandomForestClassifier(random_state=rs)\n",
    "xgb_model = xgb.XGBClassifier(random_state=rs)\n",
    "svm_model = SVC(kernel='rbf', probability=True, random_state=rs)\n",
    "lr_model = LogisticRegression(max_iter=1000, random_state=rs)\n",
    "lgbm_model = LGBMClassifier(random_state=rs)\n",
    "\n",
    "model = lgbm_model\n",
    "\n",
    "cv = StratifiedKFold(n_splits=5, shuffle=True, random_state=rs)   \n",
    "cv_scores = cross_val_score(model, X_train, y_train, cv=cv, scoring='f1')\n",
    "\n",
    "model.fit(X_train, y_train)\n",
    "\n",
    "y_pred = model.predict(X_test)\n",
    "y_pred_prob = model.predict_proba(X_test)[:,1]\n",
    "\n",
    "acc = accuracy_score(y_test, y_pred)\n",
    "report = classification_report(y_test, y_pred)\n",
    "auc_roc = roc_auc_score(y_test, y_pred_prob)\n",
    "fpr, tpr, _ = roc_curve(y_test, y_pred_prob)\n",
    "f1_class_0 = f1_score(y_test, y_pred, pos_label=0)\n",
    "f1_class_1 = f1_score(y_test, y_pred, pos_label=1)\n",
    "avg_f1 = f1_score(y_test, y_pred, average='weighted')\n",
    "\n",
    "\n",
    "precision_class_0 = precision_score(y_test, y_pred, pos_label=0)\n",
    "precision_class_1 = precision_score(y_test, y_pred, pos_label=1)\n",
    "recall_class_0 = recall_score(y_test, y_pred, pos_label=0)\n",
    "recall_class_1 = recall_score(y_test, y_pred, pos_label=1)\n",
    "\n",
    "\n",
    "\n",
    "# calculate feature importances for class 0\n",
    "result_0 = permutation_importance(model, X_test, y_test == 0, n_repeats=10, random_state=0)\n",
    "importances_0 = result_0.importances_mean\n",
    "\n",
    "# calculate feature importances for class 1\n",
    "result_1 = permutation_importance(model, X_test, y_test == 1, n_repeats=10, random_state=0)\n",
    "importances_1 = result_1.importances_mean\n",
    "\n",
    "# plot the top 5 features for class 1\n",
    "sorted_idx_1 = importances_1.argsort()[::-1][:5][::-1]\n",
    "plt.figure(figsize=(15, 8))\n",
    "plt.barh(range(5), importances_1[sorted_idx_1], align='center', height=0.5)\n",
    "plt.yticks(range(5), np.array(X_train.columns)[sorted_idx_1])\n",
    "plt.xlabel('Feature importance')\n",
    "plt.ylabel('Features')\n",
    "lt.title('Top 5 Feature Importances Affecting Target Class 1')\n",
    "plt.show()\n",
    "\n",
    "\n",
    "plt.figure(figsize=(15, 8))\n",
    "plt.plot(fpr, tpr)\n",
    "plt.plot([0, 1], [0, 1], 'k--')\n",
    "plt.xlabel('False Positive Rate')\n",
    "plt.ylabel('True Positive Rate')\n",
    "#plt.title('LightGBM ROC Curve')\n",
    "#plt.text(0.6, 0.2, f\"AUC-ROC: {auc_roc:.3f}\\nF1 Score (Class 0): {f1_class_0:.3f}\\nF1 Score (Class 1): {f1_class_1:.3f}\\nAvg F1 Score: {avg_f1:.3f}\", fontsize=12, bbox=dict(facecolor='white'))\n",
    "plt.show()\n"
   ]
  }
 ],
 "metadata": {
  "kernelspec": {
   "display_name": "Python 3",
   "language": "python",
   "name": "python3"
  },
  "language_info": {
   "codemirror_mode": {
    "name": "ipython",
    "version": 3
   },
   "file_extension": ".py",
   "mimetype": "text/x-python",
   "name": "python",
   "nbconvert_exporter": "python",
   "pygments_lexer": "ipython3",
   "version": "3.8.5"
  },
  "orig_nbformat": 4
 },
 "nbformat": 4,
 "nbformat_minor": 2
}
